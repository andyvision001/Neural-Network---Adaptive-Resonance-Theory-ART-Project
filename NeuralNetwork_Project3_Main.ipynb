{
  "cells": [
    {
      "cell_type": "markdown",
      "metadata": {
        "id": "vSc61NG4-87s"
      },
      "source": [
        "# Implementation of Adaptive Resonance Theory"
      ]
    },
    {
      "cell_type": "markdown",
      "metadata": {
        "id": "bbAu1kgwozFO"
      },
      "source": [
        "## Setting the Vigilance parameter\n",
        "\n",
        "\n"
      ]
    },
    {
      "cell_type": "code",
      "execution_count": 1,
      "metadata": {
        "id": "8de5MUzSo4ju"
      },
      "outputs": [],
      "source": [
        "#vigilance value in range from 0 to 1 (default 0.00001) 0.1\n",
        "p = 0.7"
      ]
    },
    {
      "cell_type": "markdown",
      "metadata": {
        "id": "5FknOo0Twf7p"
      },
      "source": [
        "## Importing Library Dependencies and MNIST dataset"
      ]
    },
    {
      "cell_type": "code",
      "execution_count": 2,
      "metadata": {
        "id": "FLMr5-BI1JDU"
      },
      "outputs": [],
      "source": [
        "import numpy as np\n",
        "import pandas as pd\n",
        "import random as rd\n",
        "import matplotlib.pyplot as plt\n",
        "from google.colab import drive\n",
        "from keras.datasets import mnist"
      ]
    },
    {
      "cell_type": "markdown",
      "metadata": {
        "id": "sWx7ZoAk7I4X"
      },
      "source": [
        "## Data preparation and division"
      ]
    },
    {
      "cell_type": "code",
      "execution_count": 3,
      "metadata": {
        "colab": {
          "base_uri": "https://localhost:8080/"
        },
        "id": "kx7n1Qfu1yJU",
        "outputId": "39396856-870a-409e-fbb6-24922021979c"
      },
      "outputs": [
        {
          "output_type": "stream",
          "name": "stdout",
          "text": [
            "Downloading data from https://storage.googleapis.com/tensorflow/tf-keras-datasets/mnist.npz\n",
            "11493376/11490434 [==============================] - 0s 0us/step\n",
            "11501568/11490434 [==============================] - 0s 0us/step\n",
            "X_train: (60000, 28, 28)\n",
            "Y_train: (60000,)\n",
            "X_test:  (10000, 28, 28)\n",
            "Y_test:  (10000,)\n"
          ]
        }
      ],
      "source": [
        "def grey_to_bin(data):\n",
        "  dataset = []\n",
        "  for d in data:\n",
        "    array = []\n",
        "    for i in d:\n",
        "      row = []\n",
        "      for j in i:\n",
        "        if j != 0:\n",
        "          row.append(1)\n",
        "        else:\n",
        "          row.append(0)\n",
        "      array.append(row)\n",
        "    dataset.append(array)\n",
        "  return np.array(dataset)\n",
        "\n",
        "def dimension_reduction(data):\n",
        "  m, n, k = data.shape\n",
        "  new_data = []\n",
        "  for i in range(m):\n",
        "    new_data.append(data[i].reshape(n*k,))\n",
        "  return np.array(new_data)\n",
        "\n",
        "(train_X, train_y), (test_X, test_y) = mnist.load_data()\n",
        "print('X_train: ' + str(train_X.shape))\n",
        "print('Y_train: ' + str(train_y.shape))\n",
        "print('X_test:  ' + str(test_X.shape))\n",
        "print('Y_test:  ' + str(test_y.shape))\n",
        "\n",
        "train_X = grey_to_bin(train_X)\n",
        "test_X = grey_to_bin(test_X)\n",
        "\n",
        "train_X_low_dim = dimension_reduction(train_X)\n",
        "test_X_low_dim = dimension_reduction(test_X)"
      ]
    },
    {
      "cell_type": "markdown",
      "metadata": {
        "id": "lg4uKRdc7gWh"
      },
      "source": [
        "## Defining functions"
      ]
    },
    {
      "cell_type": "code",
      "execution_count": 4,
      "metadata": {
        "id": "sydztu5pLafW"
      },
      "outputs": [],
      "source": [
        "def init_params(input_vectors):\n",
        "    n, m = input_vectors.shape\n",
        "\n",
        "    T = np.ones((1, m), dtype=float)\n",
        "    B = np.empty((1, m), dtype=float)\n",
        "    B.fill(1/(m + 1))\n",
        "\n",
        "    default_T = np.ones((1, m), dtype=float)\n",
        "    default_B = np.empty((1, m), dtype=float)\n",
        "    default_B.fill(1/(m + 1))\n",
        "\n",
        "    previous_T = np.zeros((1, m), dtype=float)\n",
        "    previous_B = np.zeros((1, m), dtype=float)\n",
        "\n",
        "    return T, B, default_T, default_B, previous_T, previous_B\n",
        "\n",
        "def is_stable(previous_matrix, current_matrix):\n",
        "  return np.array_equal(previous_matrix, current_matrix)\n",
        "\n",
        "\n",
        "def calculate_y(input_vector, B):\n",
        "  #m, n = B.shape\n",
        "  y = []\n",
        "  for i in B:\n",
        "    tmp = np.sum(i * input_vector)\n",
        "    y.append(tmp)\n",
        "  \n",
        "  y = np.array(y)\n",
        "  return y\n",
        "\n",
        "def max_val_index(array, exeption):\n",
        "  max = 0\n",
        "  index = 0\n",
        "  for i in range(len(array)):\n",
        "    if array[i] not in exeption:\n",
        "      if array[i] > max:\n",
        "        max = array[i]\n",
        "        index = i\n",
        "  return max, index\n",
        "\n",
        "def compare_value(input_vector, T, index_of_T):\n",
        "  numerator = np.sum(input_vector * T[index_of_T])\n",
        "  denominator = np.sum(input_vector)\n",
        "  return numerator / denominator\n",
        "\n",
        "def vigil_cond(calculated_value, vigilance_value):\n",
        "  if calculated_value > vigilance_value:\n",
        "    return True\n",
        "  return False\n",
        "\n",
        "def condition_checker(vector, b, vig_value, T):\n",
        "  y_array = calculate_y(vector, b)\n",
        "  exeption = []\n",
        "  vigilance_satisfied = False\n",
        "  while y_array.shape[0] != len(exeption):\n",
        "    value, index = max_val_index(y_array, exeption)\n",
        "    if vigil_cond(compare_value(vector, T, index), vig_value):\n",
        "      vigilance_satisfied = True\n",
        "      break\n",
        "    else:\n",
        "      exeption.append(value)\n",
        "  return index, value, y_array, vigilance_satisfied\n",
        "\n",
        "\n",
        "def update_B(input_vector, T, index, B):\n",
        "  numerator = T[index] * input_vector\n",
        "  denominator = 0.5 + np.sum(numerator)\n",
        "  value = numerator / denominator\n",
        "  tmp = np.copy(B)\n",
        "  tmp[index] = value\n",
        "  return tmp\n",
        "\n",
        "def update_T(input_vector, T, index, B):\n",
        "  value = T[index] * input_vector\n",
        "  tmp = np.copy(T)\n",
        "  tmp[index] = value\n",
        "  return tmp\n",
        "\n",
        "def generate_new_B(input_vector, T, default_T, B, default_B):\n",
        "  new_B = update_B(input_vector, default_T, 0, default_B)\n",
        "  return np.vstack((B, new_B))\n",
        "\n",
        "def generate_new_T(input_vector, T, default_T, B, default_B):\n",
        "  new_T = update_T(input_vector, default_T, 0, default_B)\n",
        "  return np.vstack((T, new_T))"
      ]
    },
    {
      "cell_type": "markdown",
      "metadata": {
        "id": "AS50Mh4RqF4L"
      },
      "source": [
        "## Execution"
      ]
    },
    {
      "cell_type": "code",
      "execution_count": null,
      "metadata": {
        "colab": {
          "base_uri": "https://localhost:8080/"
        },
        "id": "fYlf9wY7ou2-",
        "outputId": "37ef02df-92eb-4526-8199-dde719940e85"
      },
      "outputs": [
        {
          "output_type": "stream",
          "name": "stdout",
          "text": [
            "iteration --> 0\n",
            "iteration --> 1000\n",
            "iteration --> 2000\n"
          ]
        }
      ],
      "source": [
        "T, B, default_T, default_B, previous_T, previous_B = init_params(train_X_low_dim[0:10000])\n",
        "\n",
        "epoch_count = 0\n",
        "\n",
        "while (not is_stable(previous_T, T)) and (not is_stable(previous_B, B)):\n",
        "  epoch_count += 1\n",
        "  iteration = 0\n",
        "\n",
        "  previous_T = T.copy()\n",
        "  previous_B = B.copy()\n",
        "\n",
        "  for vector in train_X_low_dim[0:10000]:\n",
        "    index, value, y_array, condition = condition_checker(vector, B, p, T)\n",
        "    if condition:\n",
        "      B = update_B(vector, T, index, B)\n",
        "      T = update_T(vector, T, index, B)\n",
        "    else:\n",
        "      B = generate_new_B(vector, T, default_T, B, default_B)\n",
        "      T = generate_new_T(vector, T, default_T, B, default_B)\n",
        "    \n",
        "    if iteration % 1000 == 0:\n",
        "      print(\"iteration --> \" + str(iteration))\n",
        "    iteration += 1\n",
        "\n",
        "  print('previous_T -> ' + str(previous_T.shape))\n",
        "  print('previous_B -> ' + str(previous_B.shape))\n",
        "  print('updated T  -> ' + str(T.shape))\n",
        "  print('updated B  -> ' + str(B.shape))\n",
        "print(epoch_count)"
      ]
    },
    {
      "cell_type": "code",
      "execution_count": null,
      "metadata": {
        "colab": {
          "base_uri": "https://localhost:8080/"
        },
        "id": "kCjzRyfmA8Mw",
        "outputId": "09adc19d-06e2-4a44-86cb-b92ab8448311"
      },
      "outputs": [
        {
          "output_type": "stream",
          "name": "stdout",
          "text": [
            "(10000,)\n",
            "(10000,)\n",
            "[[148   2  35  20   1 747   2  46]\n",
            " [ 39 298   1   0   0 285   0 504]\n",
            " [ 56  74   2   6  16 705   2 130]\n",
            " [ 29  14  36   4   5 874   0  70]\n",
            " [196 111  31  17   6  72   1 546]\n",
            " [109  18  27   1   2 428   0 278]\n",
            " [  5 160  32  22   1 493   6 295]\n",
            " [352 154  98 237  22 170   0  37]\n",
            " [ 21  11   2   0   0 755   0 155]\n",
            " [ 63  76  27  16   1 506   0 289]]\n"
          ]
        }
      ],
      "source": [
        "from sklearn.metrics.cluster import contingency_matrix\n",
        "\n",
        "b = B.copy()\n",
        "x = train_y[0:10000].copy()\n",
        "y = []\n",
        "for vector in train_X_low_dim[0:10000]:\n",
        "    y_array = calculate_y(vector, b)\n",
        "    index = y_array.argmax()\n",
        "    y.append(index)\n",
        "y = np.array(y)\n",
        "\n",
        "print(x.shape)\n",
        "print(y.shape)\n",
        "result = contingency_matrix(x, y)\n",
        "print(result)"
      ]
    },
    {
      "cell_type": "markdown",
      "metadata": {
        "id": "JgR5lwn94Wx5"
      },
      "source": [
        "## CONT\n"
      ]
    },
    {
      "cell_type": "code",
      "execution_count": null,
      "metadata": {
        "id": "_-ZJH4NU4aag"
      },
      "outputs": [],
      "source": [
        "with open('B.txt', 'w') as f:\n",
        "    for item in B:\n",
        "        f.write(\"%s\\n\" % item)"
      ]
    },
    {
      "cell_type": "code",
      "execution_count": null,
      "metadata": {
        "colab": {
          "base_uri": "https://localhost:8080/"
        },
        "id": "qM8xsC3h4qwM",
        "outputId": "026cf0b2-d248-4399-aa5a-6fb4d81a4277"
      },
      "outputs": [
        {
          "output_type": "stream",
          "name": "stdout",
          "text": [
            "(8, 784)\n"
          ]
        }
      ],
      "source": [
        "print(T.shape)"
      ]
    },
    {
      "cell_type": "markdown",
      "metadata": {
        "id": "qj4b2OuEfdmC"
      },
      "source": [
        "\n",
        "# Testing"
      ]
    },
    {
      "cell_type": "code",
      "execution_count": null,
      "metadata": {
        "colab": {
          "base_uri": "https://localhost:8080/"
        },
        "id": "Ik4XnZuULbnt",
        "outputId": "d3846ac2-b227-4f82-a171-f74fb39855ec"
      },
      "outputs": [
        {
          "output_type": "stream",
          "name": "stdout",
          "text": [
            "[[1, 1, 0, 0, 0, 0, 1], [0, 0, 1, 1, 1, 1, 0], [1, 0, 1, 1, 1, 1, 0], [0, 0, 0, 1, 1, 1, 0], [1, 1, 0, 1, 1, 1, 0]]\n",
            "[[0.125 0.125 0.125 0.125 0.125 0.125 0.125]]\n",
            "[[1. 1. 1. 1. 1. 1. 1.]]\n",
            "STARTING......\n",
            "vector:[1 1 0 0 0 0 1]\n",
            "array :[0.375]\n",
            "1.0\n",
            "[[0.28571429 0.28571429 0.         0.         0.         0.\n",
            "  0.28571429]]\n",
            "[[1. 1. 0. 0. 0. 0. 1.]]\n",
            "\n",
            "Count 0\n",
            "vector:[0 0 1 1 1 1 0]\n",
            "array :[0.]\n",
            "0.0\n",
            "[[0.28571429 0.28571429 0.         0.         0.         0.\n",
            "  0.28571429]\n",
            " [0.         0.         0.22222222 0.22222222 0.22222222 0.22222222\n",
            "  0.        ]]\n",
            "[[1. 1. 0. 0. 0. 0. 1.]\n",
            " [0. 0. 1. 1. 1. 1. 0.]]\n",
            "\n",
            "Count 1\n",
            "vector:[1 0 1 1 1 1 0]\n",
            "array :[0.28571429 0.88888889]\n",
            "0.8\n",
            "[[0.28571429 0.28571429 0.         0.         0.         0.\n",
            "  0.28571429]\n",
            " [0.         0.         0.22222222 0.22222222 0.22222222 0.22222222\n",
            "  0.        ]]\n",
            "[[1. 1. 0. 0. 0. 0. 1.]\n",
            " [0. 0. 1. 1. 1. 1. 0.]]\n",
            "\n",
            "Count 2\n",
            "vector:[0 0 0 1 1 1 0]\n",
            "array :[0.         0.66666667]\n",
            "1.0\n",
            "[[0.28571429 0.28571429 0.         0.         0.         0.\n",
            "  0.28571429]\n",
            " [0.         0.         0.         0.28571429 0.28571429 0.28571429\n",
            "  0.        ]]\n",
            "[[1. 1. 0. 0. 0. 0. 1.]\n",
            " [0. 0. 0. 1. 1. 1. 0.]]\n",
            "\n",
            "Count 3\n",
            "vector:[1 1 0 1 1 1 0]\n",
            "array :[0.57142857 0.85714286]\n",
            "0.4\n",
            "[[0.28571429 0.28571429 0.         0.         0.         0.\n",
            "  0.28571429]\n",
            " [0.         0.         0.         0.28571429 0.28571429 0.28571429\n",
            "  0.        ]\n",
            " [0.18181818 0.18181818 0.         0.18181818 0.18181818 0.18181818\n",
            "  0.        ]]\n",
            "[[1. 1. 0. 0. 0. 0. 1.]\n",
            " [0. 0. 0. 1. 1. 1. 0.]\n",
            " [1. 1. 0. 1. 1. 1. 0.]]\n",
            "\n",
            "Count 4\n",
            "vector:[1 1 0 0 0 0 1]\n",
            "array :[0.85714286 0.         0.36363636]\n",
            "1.0\n",
            "[[0.28571429 0.28571429 0.         0.         0.         0.\n",
            "  0.28571429]\n",
            " [0.         0.         0.         0.28571429 0.28571429 0.28571429\n",
            "  0.        ]\n",
            " [0.18181818 0.18181818 0.         0.18181818 0.18181818 0.18181818\n",
            "  0.        ]]\n",
            "[[1. 1. 0. 0. 0. 0. 1.]\n",
            " [0. 0. 0. 1. 1. 1. 0.]\n",
            " [1. 1. 0. 1. 1. 1. 0.]]\n",
            "\n",
            "Count 5\n",
            "vector:[0 0 1 1 1 1 0]\n",
            "array :[0.         0.85714286 0.54545455]\n",
            "0.75\n",
            "[[0.28571429 0.28571429 0.         0.         0.         0.\n",
            "  0.28571429]\n",
            " [0.         0.         0.         0.28571429 0.28571429 0.28571429\n",
            "  0.        ]\n",
            " [0.18181818 0.18181818 0.         0.18181818 0.18181818 0.18181818\n",
            "  0.        ]]\n",
            "[[1. 1. 0. 0. 0. 0. 1.]\n",
            " [0. 0. 0. 1. 1. 1. 0.]\n",
            " [1. 1. 0. 1. 1. 1. 0.]]\n",
            "\n",
            "Count 6\n",
            "vector:[1 0 1 1 1 1 0]\n",
            "array :[0.28571429 0.85714286 0.72727273]\n",
            "0.8\n",
            "[[0.28571429 0.28571429 0.         0.         0.         0.\n",
            "  0.28571429]\n",
            " [0.         0.         0.         0.28571429 0.28571429 0.28571429\n",
            "  0.        ]\n",
            " [0.22222222 0.         0.         0.22222222 0.22222222 0.22222222\n",
            "  0.        ]]\n",
            "[[1. 1. 0. 0. 0. 0. 1.]\n",
            " [0. 0. 0. 1. 1. 1. 0.]\n",
            " [1. 0. 0. 1. 1. 1. 0.]]\n",
            "\n",
            "Count 7\n",
            "vector:[0 0 0 1 1 1 0]\n",
            "array :[0.         0.85714286 0.66666667]\n",
            "1.0\n",
            "[[0.28571429 0.28571429 0.         0.         0.         0.\n",
            "  0.28571429]\n",
            " [0.         0.         0.         0.28571429 0.28571429 0.28571429\n",
            "  0.        ]\n",
            " [0.22222222 0.         0.         0.22222222 0.22222222 0.22222222\n",
            "  0.        ]]\n",
            "[[1. 1. 0. 0. 0. 0. 1.]\n",
            " [0. 0. 0. 1. 1. 1. 0.]\n",
            " [1. 0. 0. 1. 1. 1. 0.]]\n",
            "\n",
            "Count 8\n",
            "vector:[1 1 0 1 1 1 0]\n",
            "array :[0.57142857 0.85714286 0.88888889]\n",
            "0.8\n",
            "[[0.28571429 0.28571429 0.         0.         0.         0.\n",
            "  0.28571429]\n",
            " [0.         0.         0.         0.28571429 0.28571429 0.28571429\n",
            "  0.        ]\n",
            " [0.22222222 0.         0.         0.22222222 0.22222222 0.22222222\n",
            "  0.        ]]\n",
            "[[1. 1. 0. 0. 0. 0. 1.]\n",
            " [0. 0. 0. 1. 1. 1. 0.]\n",
            " [1. 0. 0. 1. 1. 1. 0.]]\n",
            "\n",
            "Count 9\n",
            "vector:[1 1 0 0 0 0 1]\n",
            "array :[0.85714286 0.         0.22222222]\n",
            "1.0\n",
            "[[0.28571429 0.28571429 0.         0.         0.         0.\n",
            "  0.28571429]\n",
            " [0.         0.         0.         0.28571429 0.28571429 0.28571429\n",
            "  0.        ]\n",
            " [0.22222222 0.         0.         0.22222222 0.22222222 0.22222222\n",
            "  0.        ]]\n",
            "[[1. 1. 0. 0. 0. 0. 1.]\n",
            " [0. 0. 0. 1. 1. 1. 0.]\n",
            " [1. 0. 0. 1. 1. 1. 0.]]\n",
            "\n",
            "Count 10\n",
            "vector:[0 0 1 1 1 1 0]\n",
            "array :[0.         0.85714286 0.66666667]\n",
            "0.75\n",
            "[[0.28571429 0.28571429 0.         0.         0.         0.\n",
            "  0.28571429]\n",
            " [0.         0.         0.         0.28571429 0.28571429 0.28571429\n",
            "  0.        ]\n",
            " [0.22222222 0.         0.         0.22222222 0.22222222 0.22222222\n",
            "  0.        ]]\n",
            "[[1. 1. 0. 0. 0. 0. 1.]\n",
            " [0. 0. 0. 1. 1. 1. 0.]\n",
            " [1. 0. 0. 1. 1. 1. 0.]]\n",
            "\n",
            "Count 11\n",
            "vector:[1 0 1 1 1 1 0]\n",
            "array :[0.28571429 0.85714286 0.88888889]\n",
            "0.8\n",
            "[[0.28571429 0.28571429 0.         0.         0.         0.\n",
            "  0.28571429]\n",
            " [0.         0.         0.         0.28571429 0.28571429 0.28571429\n",
            "  0.        ]\n",
            " [0.22222222 0.         0.         0.22222222 0.22222222 0.22222222\n",
            "  0.        ]]\n",
            "[[1. 1. 0. 0. 0. 0. 1.]\n",
            " [0. 0. 0. 1. 1. 1. 0.]\n",
            " [1. 0. 0. 1. 1. 1. 0.]]\n",
            "\n",
            "Count 12\n",
            "vector:[0 0 0 1 1 1 0]\n",
            "array :[0.         0.85714286 0.66666667]\n",
            "1.0\n",
            "[[0.28571429 0.28571429 0.         0.         0.         0.\n",
            "  0.28571429]\n",
            " [0.         0.         0.         0.28571429 0.28571429 0.28571429\n",
            "  0.        ]\n",
            " [0.22222222 0.         0.         0.22222222 0.22222222 0.22222222\n",
            "  0.        ]]\n",
            "[[1. 1. 0. 0. 0. 0. 1.]\n",
            " [0. 0. 0. 1. 1. 1. 0.]\n",
            " [1. 0. 0. 1. 1. 1. 0.]]\n",
            "\n",
            "Count 13\n",
            "vector:[1 1 0 1 1 1 0]\n",
            "array :[0.57142857 0.85714286 0.88888889]\n",
            "0.8\n",
            "[[0.28571429 0.28571429 0.         0.         0.         0.\n",
            "  0.28571429]\n",
            " [0.         0.         0.         0.28571429 0.28571429 0.28571429\n",
            "  0.        ]\n",
            " [0.22222222 0.         0.         0.22222222 0.22222222 0.22222222\n",
            "  0.        ]]\n",
            "[[1. 1. 0. 0. 0. 0. 1.]\n",
            " [0. 0. 0. 1. 1. 1. 0.]\n",
            " [1. 0. 0. 1. 1. 1. 0.]]\n",
            "\n",
            "Count 14\n"
          ]
        }
      ],
      "source": [
        "#TESTING PURPOSE\n",
        "v = []\n",
        "v.append([1, 1, 0, 0, 0, 0, 1])\n",
        "v.append([0, 0, 1, 1, 1, 1, 0])\n",
        "v.append([1, 0, 1, 1, 1, 1, 0])\n",
        "v.append([0, 0, 0, 1, 1, 1, 0])\n",
        "v.append([1, 1, 0, 1, 1, 1, 0])\n",
        "input_vectors = np.array(v)\n",
        "p = 0.7\n",
        "\n",
        "t = np.ones((1, 7), dtype=float)\n",
        "b = np.empty((1, 7), dtype=float)\n",
        "b.fill(1/(7 + 1))\n",
        "\n",
        "default_t = np.copy(t)\n",
        "default_b = np.copy(b)\n",
        "\n",
        "print(v)\n",
        "print(b)\n",
        "print(t)\n",
        "\n",
        "prev_T = np.zeros((1, 7), dtype=float)\n",
        "prev_B = np.zeros((1, 7), dtype=float)\n",
        "\n",
        "epochCount = 0\n",
        "count = 0\n",
        "\n",
        "\n",
        "print('STARTING......')\n",
        "\n",
        "\n",
        "\n",
        "while (not is_stable(prev_T, t)) and (not is_stable(prev_B, b)):\n",
        "  epochCount += 1\n",
        "\n",
        "  prev_T = t.copy()\n",
        "  prev_B = b.copy()\n",
        "\n",
        "  for vector in input_vectors:\n",
        "    print(\"vector:\" + str(vector) + \"\")\n",
        "\n",
        "    #y_array = calculate_y(vector, b)\n",
        "    index, value, y_array, condition = condition_checker(vector, b, p, t)\n",
        "    \n",
        "    #print(\"value : ---> \" + str(value) + \" <---\")\n",
        "    #print(\"index : ---> \" + str(index) + \" <---\")\n",
        "    print(\"array :\" + str(y_array) + \"\")\n",
        "    print(compare_value(vector, t, index))\n",
        "\n",
        "    if condition:\n",
        "      b = update_B(vector, t, index, b)\n",
        "      t = update_T(vector, t, index, b)\n",
        "      print(b)\n",
        "      print(t)\n",
        "    else:\n",
        "      b = generate_new_B(vector, t, default_t, b, default_b)\n",
        "      t = generate_new_T(vector, t, default_t, b, default_b)\n",
        "      print(b)\n",
        "      print(t)\n",
        "    print('\\nCount ' + str(count))\n",
        "    count += 1\n",
        "  "
      ]
    },
    {
      "cell_type": "markdown",
      "metadata": {
        "id": "PxVGkJsS63Ar"
      },
      "source": [
        "## Definition of additional functions"
      ]
    },
    {
      "cell_type": "code",
      "execution_count": null,
      "metadata": {
        "id": "NHWkmLc33VyC"
      },
      "outputs": [],
      "source": [
        "def plot_image(dataset, index):\n",
        "  plt.subplots(nrows=0, ncols=0)\n",
        "  plt.figure(figsize=(10, 6))\n",
        "  plt.imshow(dataset[index], cmap=plt.get_cmap('gray'))\n",
        "  plt.show()"
      ]
    },
    {
      "cell_type": "markdown",
      "metadata": {
        "id": "74cXU1Zz6_yP"
      },
      "source": [
        "## Test Results"
      ]
    },
    {
      "cell_type": "code",
      "execution_count": null,
      "metadata": {
        "colab": {
          "base_uri": "https://localhost:8080/"
        },
        "id": "NtkLMFgb3-KW",
        "outputId": "7cde9fe4-142e-47b2-a65b-bc7e2a9651a4"
      },
      "outputs": [
        {
          "output_type": "display_data",
          "data": {
            "text/plain": [
              "<Figure size 432x288 with 0 Axes>"
            ]
          },
          "metadata": {}
        },
        {
          "output_type": "display_data",
          "data": {
            "text/plain": [
              "<Figure size 720x432 with 1 Axes>"
            ],
            "image/png": "[encoded data removed]"
          },
          "metadata": {
            "needs_background": "light"
          }
        },
        {
          "output_type": "stream",
          "name": "stdout",
          "text": [
            "4\n"
          ]
        }
      ],
      "source": [
        "plot_image(train_X, 1)\n",
        "print(train_y[2])"
      ]
    }
  ],
  "metadata": {
    "colab": {
      "collapsed_sections": [
        "PxVGkJsS63Ar"
      ],
      "name": "NeuralNetwork_Project3_Main.ipynb",
      "provenance": []
    },
    "kernelspec": {
      "display_name": "Python 3",
      "name": "python3"
    },
    "language_info": {
      "name": "python"
    }
  },
  "nbformat": 4,
  "nbformat_minor": 0
}